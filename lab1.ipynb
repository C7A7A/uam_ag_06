{
 "cells": [
  {
   "cell_type": "code",
   "execution_count": 2,
   "id": "personal-result",
   "metadata": {},
   "outputs": [],
   "source": [
    "from qiskit import QuantumCircuit"
   ]
  },
  {
   "cell_type": "code",
   "execution_count": 16,
   "id": "beautiful-access",
   "metadata": {},
   "outputs": [
    {
     "data": {
      "text/html": [
       "<pre style=\"word-wrap: normal;white-space: pre;background: #fff0;line-height: 1.1;font-family: &quot;Courier New&quot;,Courier,monospace\">     ┌───┐ ░       ░ ┌─┐   \n",
       "q_0: ┤ H ├─░───■───░─┤M├───\n",
       "     └───┘ ░ ┌─┴─┐ ░ └╥┘┌─┐\n",
       "q_1: ──────░─┤ X ├─░──╫─┤M├\n",
       "           ░ └───┘ ░  ║ └╥┘\n",
       "c: 2/═════════════════╩══╩═\n",
       "                      0  1 </pre>"
      ],
      "text/plain": [
       "     ┌───┐ ░       ░ ┌─┐   \n",
       "q_0: ┤ H ├─░───■───░─┤M├───\n",
       "     └───┘ ░ ┌─┴─┐ ░ └╥┘┌─┐\n",
       "q_1: ──────░─┤ X ├─░──╫─┤M├\n",
       "           ░ └───┘ ░  ║ └╥┘\n",
       "c: 2/═════════════════╩══╩═\n",
       "                      0  1 "
      ]
     },
     "execution_count": 16,
     "metadata": {},
     "output_type": "execute_result"
    }
   ],
   "source": [
    "circ = QuantumCircuit(2, 2)\n",
    "\n",
    "circ.h(0)\n",
    "circ.barrier()\n",
    "\n",
    "circ.cx(0, 1)\n",
    "circ.barrier()\n",
    "\n",
    "circ.measure(0, 0) # pomiar qubit 0 na bit 0\n",
    "circ.measure(1, 1) # pomiar qubit 1 na bit 1\n",
    "\n",
    "circ.draw()"
   ]
  },
  {
   "cell_type": "code",
   "execution_count": 17,
   "id": "competitive-protein",
   "metadata": {},
   "outputs": [],
   "source": [
    "from qiskit import Aer\n",
    "from qiskit import assemble"
   ]
  },
  {
   "cell_type": "code",
   "execution_count": 82,
   "id": "lesser-architecture",
   "metadata": {},
   "outputs": [],
   "source": [
    "symulator = Aer.get_backend('qasm_simulator')\n",
    "qobj = assemble(circ, shots=100_000)\n",
    "wyniki = symulator.run(qobj)"
   ]
  },
  {
   "cell_type": "code",
   "execution_count": 83,
   "id": "hazardous-tutorial",
   "metadata": {},
   "outputs": [
    {
     "name": "stdout",
     "output_type": "stream",
     "text": [
      "{'11': 50399, '00': 49601}\n"
     ]
    }
   ],
   "source": [
    "hist = wyniki.result().get_counts()\n",
    "print(hist)"
   ]
  },
  {
   "cell_type": "code",
   "execution_count": 84,
   "id": "radio-fishing",
   "metadata": {},
   "outputs": [
    {
     "data": {
      "image/png": "[encoded data removed]",
      "text/plain": [
       "<Figure size 504x360 with 1 Axes>"
      ]
     },
     "execution_count": 84,
     "metadata": {},
     "output_type": "execute_result"
    }
   ],
   "source": [
    "from qiskit.visualization import plot_histogram\n",
    "\n",
    "plot_histogram(hist)"
   ]
  },
  {
   "cell_type": "code",
   "execution_count": 170,
   "id": "constant-infrastructure",
   "metadata": {},
   "outputs": [
    {
     "data": {
      "text/html": [
       "<pre style=\"word-wrap: normal;white-space: pre;background: #fff0;line-height: 1.1;font-family: &quot;Courier New&quot;,Courier,monospace\">     ┌───┐ ░       ░ ┌─┐   \n",
       "q_0: ┤ X ├─░───────░─┤M├───\n",
       "     ├───┤ ░ ┌───┐ ░ └╥┘┌─┐\n",
       "q_1: ┤ X ├─░─┤ X ├─░──╫─┤M├\n",
       "     └───┘ ░ └───┘ ░  ║ └╥┘\n",
       "c: 2/═════════════════╩══╩═\n",
       "                      0  1 </pre>"
      ],
      "text/plain": [
       "     ┌───┐ ░       ░ ┌─┐   \n",
       "q_0: ┤ X ├─░───────░─┤M├───\n",
       "     ├───┤ ░ ┌───┐ ░ └╥┘┌─┐\n",
       "q_1: ┤ X ├─░─┤ X ├─░──╫─┤M├\n",
       "     └───┘ ░ └───┘ ░  ║ └╥┘\n",
       "c: 2/═════════════════╩══╩═\n",
       "                      0  1 "
      ]
     },
     "execution_count": 170,
     "metadata": {},
     "output_type": "execute_result"
    }
   ],
   "source": [
    "circ2 = QuantumCircuit(2, 2)\n",
    "\n",
    "def quantum_fun(circ, x):\n",
    "    if (x == 1):\n",
    "        circ.x(0)\n",
    "        circ.barrier()\n",
    "    if (x == 2):\n",
    "        circ.x(1)\n",
    "        circ.barrier()\n",
    "    if (x == 3):\n",
    "        circ.x(0)\n",
    "        circ.x(1)\n",
    "        circ.barrier()\n",
    "\n",
    "    circ.x(1)\n",
    "    circ.barrier()\n",
    "    circ.measure(0, 0)\n",
    "    circ.measure(1, 1)\n",
    "    \n",
    "\n",
    "quantum_fun(circ2, 3)\n",
    "circ2.draw()"
   ]
  },
  {
   "cell_type": "code",
   "execution_count": 171,
   "id": "greatest-workshop",
   "metadata": {},
   "outputs": [
    {
     "name": "stdout",
     "output_type": "stream",
     "text": [
      "{'01': 100000}\n"
     ]
    }
   ],
   "source": [
    "qobj = assemble(circ2, shots=100_000)\n",
    "wyniki = symulator.run(qobj)\n",
    "\n",
    "hist = wyniki.result().get_counts()\n",
    "print(hist)"
   ]
  },
  {
   "cell_type": "code",
   "execution_count": 169,
   "id": "published-technology",
   "metadata": {},
   "outputs": [
    {
     "data": {
      "image/png": "[encoded data removed]",
      "text/plain": [
       "<Figure size 504x360 with 1 Axes>"
      ]
     },
     "execution_count": 169,
     "metadata": {},
     "output_type": "execute_result"
    }
   ],
   "source": [
    "plot_histogram(hist)"
   ]
  },
  {
   "cell_type": "code",
   "execution_count": 292,
   "id": "dressed-strategy",
   "metadata": {},
   "outputs": [
    {
     "data": {
      "text/html": [
       "<pre style=\"word-wrap: normal;white-space: pre;background: #fff0;line-height: 1.1;font-family: &quot;Courier New&quot;,Courier,monospace\">     ┌───┐ ░            ░       \n",
       "q_0: ┤ X ├─░───■────■───░───────\n",
       "     ├───┤ ░   │  ┌─┴─┐ ░    ┌─┐\n",
       "q_1: ┤ X ├─░───■──┤ X ├─░────┤M├\n",
       "     └───┘ ░ ┌─┴─┐└───┘ ░ ┌─┐└╥┘\n",
       "q_2: ──────░─┤ X ├──────░─┤M├─╫─\n",
       "           ░ └───┘      ░ └╥┘ ║ \n",
       "c: 2/══════════════════════╩══╩═\n",
       "                           0  1 </pre>"
      ],
      "text/plain": [
       "     ┌───┐ ░            ░       \n",
       "q_0: ┤ X ├─░───■────■───░───────\n",
       "     ├───┤ ░   │  ┌─┴─┐ ░    ┌─┐\n",
       "q_1: ┤ X ├─░───■──┤ X ├─░────┤M├\n",
       "     └───┘ ░ ┌─┴─┐└───┘ ░ ┌─┐└╥┘\n",
       "q_2: ──────░─┤ X ├──────░─┤M├─╫─\n",
       "           ░ └───┘      ░ └╥┘ ║ \n",
       "c: 2/══════════════════════╩══╩═\n",
       "                           0  1 "
      ]
     },
     "execution_count": 292,
     "metadata": {},
     "output_type": "execute_result"
    }
   ],
   "source": [
    "circ3 = QuantumCircuit(3, 2)\n",
    "\n",
    "def half_adder(circ, x):\n",
    "    if (x == 1):\n",
    "        circ.x(0)\n",
    "        circ.barrier()\n",
    "    if (x == 2):\n",
    "        circ.x(1)\n",
    "        circ.barrier()\n",
    "    if (x == 3):\n",
    "        circ.x(0)\n",
    "        circ.x(1)\n",
    "        circ.barrier()\n",
    "\n",
    "    circ.ccx(0, 1, 2)\n",
    "    circ.cx(0, 1)\n",
    "    \n",
    "    circ.barrier()\n",
    "\n",
    "    circ.measure(2, 0)\n",
    "    circ.measure(1, 1)\n",
    "    \n",
    "half_adder(circ3, 3)\n",
    "    \n",
    "circ3.draw()"
   ]
  },
  {
   "cell_type": "code",
   "execution_count": 293,
   "id": "brief-senior",
   "metadata": {},
   "outputs": [
    {
     "name": "stdout",
     "output_type": "stream",
     "text": [
      "{'01': 100000}\n"
     ]
    }
   ],
   "source": [
    "qobj = assemble(circ3, shots=100_000)\n",
    "wyniki = symulator.run(qobj)\n",
    "\n",
    "hist = wyniki.result().get_counts()\n",
    "print(hist)"
   ]
  },
  {
   "cell_type": "code",
   "execution_count": 294,
   "id": "fuzzy-registration",
   "metadata": {},
   "outputs": [
    {
     "data": {
      "image/png": "[encoded data removed]",
      "text/plain": [
       "<Figure size 504x360 with 1 Axes>"
      ]
     },
     "execution_count": 294,
     "metadata": {},
     "output_type": "execute_result"
    }
   ],
   "source": [
    "plot_histogram(hist)"
   ]
  },
  {
   "cell_type": "code",
   "execution_count": null,
   "id": "dying-trace",
   "metadata": {},
   "outputs": [],
   "source": [
    "circ4 = QuantumCircuit(4, 2)\n",
    "\n",
    "def adder(circ, x):\n",
    "    if (x == 1):\n",
    "        circ.x(0)\n",
    "    if (x == 2):\n",
    "        circ.x(1)\n",
    "    if (x == 3):\n",
    "        circ.x(0)\n",
    "        circ.x(1)\n",
    "    if (x == )\n",
    "    circ.barrier()\n",
    "    \n",
    "    circ.ccx(0, 1, 2)\n",
    "    circ.cx(0, 1)\n",
    "    \n",
    "    circ.barrier()\n",
    "\n",
    "    circ.measure(2, 0)\n",
    "    circ.measure(1, 1)\n",
    "    \n",
    "adder(circ3, 3)\n",
    "    \n",
    "circ3.draw()"
   ]
  },
  {
   "cell_type": "code",
   "execution_count": null,
   "id": "inappropriate-realtor",
   "metadata": {},
   "outputs": [],
   "source": []
  }
 ],
 "metadata": {
  "kernelspec": {
   "display_name": "Python 3",
   "language": "python",
   "name": "python3"
  },
  "language_info": {
   "codemirror_mode": {
    "name": "ipython",
    "version": 3
   },
   "file_extension": ".py",
   "mimetype": "text/x-python",
   "name": "python",
   "nbconvert_exporter": "python",
   "pygments_lexer": "ipython3",
   "version": "3.7.3"
  }
 },
 "nbformat": 4,
 "nbformat_minor": 5
}
