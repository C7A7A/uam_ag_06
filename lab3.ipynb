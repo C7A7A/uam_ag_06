{
 "cells": [
  {
   "cell_type": "code",
   "execution_count": 1,
   "id": "large-mailing",
   "metadata": {},
   "outputs": [],
   "source": [
    "# bramka toffoliego -> mct()\n",
    "# mct([], target)"
   ]
  },
  {
   "cell_type": "code",
   "execution_count": 5,
   "id": "natural-private",
   "metadata": {},
   "outputs": [],
   "source": [
    "from qiskit import QuantumCircuit\n",
    "from qiskit import Aer\n",
    "from qiskit import assemble\n",
    "\n",
    "simulator = Aer.get_backend('qasm_simulator')"
   ]
  },
  {
   "cell_type": "code",
   "execution_count": 25,
   "id": "growing-calculation",
   "metadata": {},
   "outputs": [
    {
     "name": "stdout",
     "output_type": "stream",
     "text": [
      "{'000': 1}\n"
     ]
    },
    {
     "data": {
      "image/png": "[encoded data removed]",
      "text/plain": [
       "<Figure size 267.197x264.88 with 1 Axes>"
      ]
     },
     "execution_count": 25,
     "metadata": {},
     "output_type": "execute_result"
    }
   ],
   "source": [
    "n = 2\n",
    "circ = QuantumCircuit(n+1, n+1)\n",
    "\n",
    "number = '001'\n",
    "\n",
    "for i in range(n + 1):\n",
    "    circ.measure(i, i)\n",
    "\n",
    "qobj = assemble(circ, shots=1)\n",
    "results = simulator.run(qobj)\n",
    "\n",
    "hist = results.result().get_counts()\n",
    "print(hist)\n",
    "    \n",
    "circ.draw(output=\"mpl\")"
   ]
  },
  {
   "cell_type": "code",
   "execution_count": null,
   "id": "brilliant-efficiency",
   "metadata": {},
   "outputs": [],
   "source": []
  }
 ],
 "metadata": {
  "kernelspec": {
   "display_name": "Python 3 (ipykernel)",
   "language": "python",
   "name": "python3"
  },
  "language_info": {
   "codemirror_mode": {
    "name": "ipython",
    "version": 3
   },
   "file_extension": ".py",
   "mimetype": "text/x-python",
   "name": "python",
   "nbconvert_exporter": "python",
   "pygments_lexer": "ipython3",
   "version": "3.9.2"
  }
 },
 "nbformat": 4,
 "nbformat_minor": 5
}
