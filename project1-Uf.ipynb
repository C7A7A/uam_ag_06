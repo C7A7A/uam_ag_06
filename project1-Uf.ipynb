{
 "cells": [
  {
   "cell_type": "code",
   "execution_count": 55,
   "id": "roman-sport",
   "metadata": {},
   "outputs": [],
   "source": [
    "# f(x) = (x + index_num) % 8\n",
    "# 452648 % 8 = 0\n",
    "# f(x) = (x + 1) % 8\n",
    "# 0 -> 1     000 -> 001\n",
    "# 1 -> 2     001 -> 010\n",
    "# 2 -> 3     010 -> 011\n",
    "# 3 -> 4     011 -> 100\n",
    "# 4 -> 5     100 -> 101\n",
    "# 5 -> 6     101 -> 110\n",
    "# 6 -> 7     110 -> 111\n",
    "# 7 -> 0     111 -> 000"
   ]
  },
  {
   "cell_type": "code",
   "execution_count": 56,
   "id": "posted-pledge",
   "metadata": {},
   "outputs": [],
   "source": [
    "from qiskit import QuantumCircuit\n",
    "from qiskit import Aer\n",
    "from qiskit import assemble\n",
    "\n",
    "simulator = Aer.get_backend('qasm_simulator')"
   ]
  },
  {
   "cell_type": "code",
   "execution_count": 57,
   "id": "athletic-mapping",
   "metadata": {
    "tags": []
   },
   "outputs": [
    {
     "name": "stdout",
     "output_type": "stream",
     "text": [
      "{'001': 1}\n",
      "{'010': 1}\n",
      "{'011': 1}\n",
      "{'100': 1}\n",
      "{'101': 1}\n",
      "{'110': 1}\n",
      "{'111': 1}\n",
      "{'000': 1}\n"
     ]
    }
   ],
   "source": [
    "def uf_fun(circ, x):\n",
    "    if (x == 1):\n",
    "        circ.x(0)\n",
    "        circ.barrier()\n",
    "    if (x == 2):\n",
    "        circ.x(1)\n",
    "        circ.barrier()\n",
    "    if (x == 3):\n",
    "        circ.x(0)\n",
    "        circ.x(1)\n",
    "        circ.barrier()\n",
    "    if (x == 4):\n",
    "        circ.x(2)\n",
    "        circ.barrier()\n",
    "    if (x == 5):\n",
    "        circ.x(2)\n",
    "        circ.x(0)\n",
    "        circ.barrier()\n",
    "    if (x == 6):\n",
    "        circ.x(2)\n",
    "        circ.x(1)\n",
    "        circ.barrier()\n",
    "    if (x == 7):\n",
    "        circ.x(2)\n",
    "        circ.x(1)\n",
    "        circ.x(0)\n",
    "        circ.barrier()\n",
    "        \n",
    "    circ.ccx(0, 1, 2)\n",
    "    circ.barrier()\n",
    "    \n",
    "    circ.cx(0, 1)\n",
    "    circ.barrier()\n",
    "    \n",
    "    circ.x(0)\n",
    "    circ.barrier()\n",
    "    \n",
    "    circ.measure(0, 0) # pomiar qubit 0 na bit 0\n",
    "    circ.measure(1, 1) # pomiar qubit 1 na bit 1\n",
    "    circ.measure(2, 2) # pomiar qubit 1 na bit 1\n",
    "\n",
    "\n",
    "for i in range(8):\n",
    "    circ = QuantumCircuit(3, 3)\n",
    "    uf_fun(circ, i)\n",
    "    \n",
    "    qobj = assemble(circ, shots=1)\n",
    "    results = simulator.run(qobj)\n",
    "\n",
    "    hist = results.result().get_counts()\n",
    "    # print(format(i, \"b\"))\n",
    "    print(hist)\n",
    "    \n",
    "# circ.draw(output=\"mpl\")\n"
   ]
  },
  {
   "cell_type": "code",
   "execution_count": null,
   "id": "developing-coral",
   "metadata": {},
   "outputs": [],
   "source": []
  },
  {
   "cell_type": "code",
   "execution_count": null,
   "id": "tight-machinery",
   "metadata": {},
   "outputs": [],
   "source": []
  },
  {
   "cell_type": "code",
   "execution_count": null,
   "id": "several-style",
   "metadata": {},
   "outputs": [],
   "source": []
  }
 ],
 "metadata": {
  "kernelspec": {
   "display_name": "Python 3",
   "language": "python",
   "name": "python3"
  },
  "language_info": {
   "codemirror_mode": {
    "name": "ipython",
    "version": 3
   },
   "file_extension": ".py",
   "mimetype": "text/x-python",
   "name": "python",
   "nbconvert_exporter": "python",
   "pygments_lexer": "ipython3",
   "version": "3.7.3"
  }
 },
 "nbformat": 4,
 "nbformat_minor": 5
}
